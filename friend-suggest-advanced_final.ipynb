{
 "cells": [
  {
   "cell_type": "code",
   "execution_count": 1,
   "id": "57548a6f",
   "metadata": {
    "execution": {
     "iopub.execute_input": "2025-08-07T04:22:59.985513Z",
     "iopub.status.busy": "2025-08-07T04:22:59.985252Z",
     "iopub.status.idle": "2025-08-07T04:23:03.858284Z",
     "shell.execute_reply": "2025-08-07T04:23:03.857402Z"
    },
    "papermill": {
     "duration": 3.879885,
     "end_time": "2025-08-07T04:23:03.859509",
     "exception": false,
     "start_time": "2025-08-07T04:22:59.979624",
     "status": "completed"
    },
    "tags": []
   },
   "outputs": [
    {
     "name": "stdout",
     "output_type": "stream",
     "text": [
      "Danh sách ego: ['0', '107', '1684', '1912', '3437', '348', '3980', '414', '686', '698']\n",
      "Số lượng ego network đã load: 10\n"
     ]
    }
   ],
   "source": [
    "import os\n",
    "import pandas as pd\n",
    "import networkx as nx\n",
    "\n",
    "# Đường dẫn tới folder dữ liệu (bạn điều chỉnh nếu cần)\n",
    "data_dir = \"/kaggle/input/facebook-ego-network/facebook\"\n",
    "\n",
    "# Danh sách các ego users (dựa trên tên file)\n",
    "ego_ids = set()\n",
    "for file in os.listdir(data_dir):\n",
    "    if file.endswith('.edges'):\n",
    "        ego_id = file.split('.')[0]\n",
    "        ego_ids.add(ego_id)\n",
    "\n",
    "print(\"Danh sách ego:\", sorted(ego_ids))\n",
    "\n",
    "# Đọc dữ liệu từng ego vào dictionary\n",
    "ego_graphs = {}\n",
    "ego_features = {}\n",
    "ego_egofeatures = {}\n",
    "ego_featnames = {}\n",
    "ego_circles = {}\n",
    "\n",
    "for ego_id in ego_ids:\n",
    "    # Đọc edges\n",
    "    edges_path = os.path.join(data_dir, f\"{ego_id}.edges\")\n",
    "    G = nx.read_edgelist(edges_path)\n",
    "    ego_graphs[ego_id] = G\n",
    "\n",
    "    # Đọc features\n",
    "    feat_path = os.path.join(data_dir, f\"{ego_id}.feat\")\n",
    "    if os.path.exists(feat_path):\n",
    "        features = pd.read_csv(feat_path, delimiter=\" \", header=None)\n",
    "        ego_features[ego_id] = features\n",
    "\n",
    "    # Đọc ego features\n",
    "    egofeat_path = os.path.join(data_dir, f\"{ego_id}.egofeat\")\n",
    "    if os.path.exists(egofeat_path):\n",
    "        egofeat = pd.read_csv(egofeat_path, delimiter=\" \", header=None)\n",
    "        ego_egofeatures[ego_id] = egofeat\n",
    "\n",
    "    # Đọc feature names\n",
    "    featnames_path = os.path.join(data_dir, f\"{ego_id}.featnames\")\n",
    "    if os.path.exists(featnames_path):\n",
    "        with open(featnames_path, \"r\") as f:\n",
    "            featnames = [line.strip() for line in f.readlines()]\n",
    "            ego_featnames[ego_id] = featnames\n",
    "\n",
    "    # Đọc circles nếu có\n",
    "    circles_path = os.path.join(data_dir, f\"{ego_id}.circles\")\n",
    "    if os.path.exists(circles_path):\n",
    "        with open(circles_path, \"r\") as f:\n",
    "            circles = []\n",
    "            for line in f:\n",
    "                tokens = line.strip().split()\n",
    "                circles.append(tokens[1:])  # Bỏ tên circle\n",
    "            ego_circles[ego_id] = circles\n",
    "\n",
    "print(\"Số lượng ego network đã load:\", len(ego_graphs))"
   ]
  },
  {
   "cell_type": "code",
   "execution_count": 2,
   "id": "a7b63b75",
   "metadata": {
    "execution": {
     "iopub.execute_input": "2025-08-07T04:23:03.867896Z",
     "iopub.status.busy": "2025-08-07T04:23:03.867294Z",
     "iopub.status.idle": "2025-08-07T04:23:03.872397Z",
     "shell.execute_reply": "2025-08-07T04:23:03.871493Z"
    },
    "papermill": {
     "duration": 0.010148,
     "end_time": "2025-08-07T04:23:03.873514",
     "exception": false,
     "start_time": "2025-08-07T04:23:03.863366",
     "status": "completed"
    },
    "tags": []
   },
   "outputs": [
    {
     "name": "stdout",
     "output_type": "stream",
     "text": [
      "0.circles\n",
      "0.edges\n",
      "0.egofeat\n",
      "0.feat\n",
      "0.featnames\n",
      "107.circles\n",
      "107.edges\n",
      "107.egofeat\n",
      "107.feat\n",
      "107.featnames\n",
      "1684.circles\n",
      "1684.edges\n",
      "1684.egofeat\n",
      "1684.feat\n",
      "1684.featnames\n",
      "1912.circles\n",
      "1912.edges\n",
      "1912.egofeat\n",
      "1912.feat\n",
      "1912.featnames\n",
      "3437.circles\n",
      "3437.edges\n",
      "3437.egofeat\n",
      "3437.feat\n",
      "3437.featnames\n",
      "348.circles\n",
      "348.edges\n",
      "348.egofeat\n",
      "348.feat\n",
      "348.featnames\n",
      "3980.circles\n",
      "3980.edges\n",
      "3980.egofeat\n",
      "3980.feat\n",
      "3980.featnames\n",
      "414.circles\n",
      "414.edges\n",
      "414.egofeat\n",
      "414.feat\n",
      "414.featnames\n",
      "686.circles\n",
      "686.edges\n",
      "686.egofeat\n",
      "686.feat\n",
      "686.featnames\n",
      "698.circles\n",
      "698.edges\n",
      "698.egofeat\n",
      "698.feat\n",
      "698.featnames\n"
     ]
    }
   ],
   "source": [
    "import os\n",
    "\n",
    "# Đường dẫn đến thư mục chứa dữ liệu trên Kaggle\n",
    "data_dir = '/kaggle/input/facebook-ego-network/facebook'  # bạn chỉnh lại tên thư mục đúng nếu khác\n",
    "\n",
    "# Liệt kê các file\n",
    "all_files = os.listdir(data_dir)\n",
    "all_files = sorted(all_files)\n",
    "for file in all_files:\n",
    "    print(file)\n"
   ]
  },
  {
   "cell_type": "code",
   "execution_count": 3,
   "id": "28313ec9",
   "metadata": {
    "execution": {
     "iopub.execute_input": "2025-08-07T04:23:03.880745Z",
     "iopub.status.busy": "2025-08-07T04:23:03.880539Z",
     "iopub.status.idle": "2025-08-07T04:23:03.885496Z",
     "shell.execute_reply": "2025-08-07T04:23:03.884879Z"
    },
    "papermill": {
     "duration": 0.009589,
     "end_time": "2025-08-07T04:23:03.886500",
     "exception": false,
     "start_time": "2025-08-07T04:23:03.876911",
     "status": "completed"
    },
    "tags": []
   },
   "outputs": [
    {
     "name": "stdout",
     "output_type": "stream",
     "text": [
      ">>> File 0.edges (các cạnh):\n",
      "236 186\n",
      "122 285\n",
      "24 346\n",
      "271 304\n",
      "176 9\n",
      "130 329\n",
      "204 213\n",
      "252 332\n",
      "82 65\n",
      "276 26\n"
     ]
    }
   ],
   "source": [
    "# Ví dụ: đọc file '0.edges'\n",
    "with open(os.path.join(data_dir, '0.edges'), 'r') as f:\n",
    "    lines = f.readlines()\n",
    "    print(\">>> File 0.edges (các cạnh):\")\n",
    "    for line in lines[:10]:  # hiển thị 10 dòng đầu\n",
    "        print(line.strip())\n"
   ]
  },
  {
   "cell_type": "code",
   "execution_count": 4,
   "id": "5f0ea3e9",
   "metadata": {
    "execution": {
     "iopub.execute_input": "2025-08-07T04:23:03.893986Z",
     "iopub.status.busy": "2025-08-07T04:23:03.893771Z",
     "iopub.status.idle": "2025-08-07T04:23:03.922374Z",
     "shell.execute_reply": "2025-08-07T04:23:03.921486Z"
    },
    "papermill": {
     "duration": 0.034064,
     "end_time": "2025-08-07T04:23:03.923861",
     "exception": false,
     "start_time": "2025-08-07T04:23:03.889797",
     "status": "completed"
    },
    "tags": []
   },
   "outputs": [
    {
     "name": "stdout",
     "output_type": "stream",
     "text": [
      ">>> File 0.feat (đặc trưng các bạn bè):\n",
      "   0    1    2    3    4    5    6    7    8    9    ...  215  216  217  218  \\\n",
      "0    1    0    0    0    0    0    0    0    0    0  ...    0    0    0    0   \n",
      "1    2    0    0    0    0    0    0    0    0    0  ...    0    0    0    0   \n",
      "2    3    0    0    0    0    0    0    0    1    0  ...    0    0    0    1   \n",
      "3    4    0    0    0    0    0    0    0    0    0  ...    0    0    0    0   \n",
      "4    5    0    0    0    0    0    0    0    0    0  ...    0    0    0    0   \n",
      "\n",
      "   219  220  221  222  223  224  \n",
      "0    0    0    0    0    0    0  \n",
      "1    0    0    0    0    0    0  \n",
      "2    0    0    0    0    0    0  \n",
      "3    0    0    0    0    0    0  \n",
      "4    0    0    0    0    0    0  \n",
      "\n",
      "[5 rows x 225 columns]\n"
     ]
    }
   ],
   "source": [
    "import pandas as pd\n",
    "\n",
    "feat_file = os.path.join(data_dir, '0.feat')\n",
    "feat_df = pd.read_csv(feat_file, sep=' ', header=None)\n",
    "print(\">>> File 0.feat (đặc trưng các bạn bè):\")\n",
    "print(feat_df.head())\n"
   ]
  },
  {
   "cell_type": "code",
   "execution_count": 5,
   "id": "137d5212",
   "metadata": {
    "execution": {
     "iopub.execute_input": "2025-08-07T04:23:03.931541Z",
     "iopub.status.busy": "2025-08-07T04:23:03.931331Z",
     "iopub.status.idle": "2025-08-07T04:23:03.935706Z",
     "shell.execute_reply": "2025-08-07T04:23:03.935130Z"
    },
    "papermill": {
     "duration": 0.009368,
     "end_time": "2025-08-07T04:23:03.936773",
     "exception": false,
     "start_time": "2025-08-07T04:23:03.927405",
     "status": "completed"
    },
    "tags": []
   },
   "outputs": [
    {
     "name": "stdout",
     "output_type": "stream",
     "text": [
      ">>> File 0.featnames (tên đặc trưng):\n",
      "0 birthday;anonymized feature 0\n",
      "1 birthday;anonymized feature 1\n",
      "2 birthday;anonymized feature 2\n",
      "3 birthday;anonymized feature 3\n",
      "4 birthday;anonymized feature 4\n",
      "5 birthday;anonymized feature 5\n",
      "6 birthday;anonymized feature 6\n",
      "7 birthday;anonymized feature 7\n",
      "8 education;classes;id;anonymized feature 8\n",
      "9 education;classes;id;anonymized feature 9\n"
     ]
    }
   ],
   "source": [
    "with open(os.path.join(data_dir, '0.featnames'), 'r') as f:\n",
    "    print(\">>> File 0.featnames (tên đặc trưng):\")\n",
    "    for line in f.readlines()[:10]:\n",
    "        print(line.strip())\n"
   ]
  },
  {
   "cell_type": "code",
   "execution_count": 6,
   "id": "7f2f5b57",
   "metadata": {
    "execution": {
     "iopub.execute_input": "2025-08-07T04:23:03.944295Z",
     "iopub.status.busy": "2025-08-07T04:23:03.944062Z",
     "iopub.status.idle": "2025-08-07T04:23:03.948789Z",
     "shell.execute_reply": "2025-08-07T04:23:03.947926Z"
    },
    "papermill": {
     "duration": 0.009628,
     "end_time": "2025-08-07T04:23:03.949879",
     "exception": false,
     "start_time": "2025-08-07T04:23:03.940251",
     "status": "completed"
    },
    "tags": []
   },
   "outputs": [
    {
     "name": "stdout",
     "output_type": "stream",
     "text": [
      ">>> File 0.circles (các nhóm bạn):\n",
      "circle0\t71\t215\t54\t61\t298\t229\t81\t253\t193\t97\t264\t29\t132\t110\t163\t259\t183\t334\t245\t222\n",
      "circle1\t173\n",
      "circle2\t155\t99\t327\t140\t116\t147\t144\t150\t270\n",
      "circle3\t51\t83\t237\n",
      "circle4\t125\t344\t295\t257\t55\t122\t223\t59\t268\t280\t84\t156\t258\t236\t250\t239\t69\n",
      "circle5\t23\n",
      "circle6\t337\t289\t93\t17\t111\t52\t137\t343\t192\t35\t326\t310\t214\t32\t115\t321\t209\t312\t41\t20\n",
      "circle7\t225\t46\n",
      "circle8\t282\n",
      "circle9\t336\t204\t74\t206\t292\t146\t154\t164\t279\t73\n",
      "circle10\t42\t14\t216\t2\n",
      "circle11\t324\t265\t54\t161\t298\t76\t165\t199\t203\t13\t66\t113\t97\t252\t313\t238\t158\t240\t331\t332\t134\t218\t118\t235\t311\t151\t308\t212\t70\t211\n",
      "circle12\t278\n",
      "circle13\t138\t131\t68\t143\t86\n",
      "circle14\t175\t227\n",
      "circle15\t108\t208\t251\t125\t325\t176\t133\t276\t198\t271\t288\t316\t96\t246\t347\t121\t7\t3\t170\t323\t56\t338\t23\t109\t141\t67\t345\t55\t114\t122\t50\t304\t318\t65\t15\t45\t317\t322\t26\t31\t168\t124\t285\t255\t129\t40\t172\t274\t95\t207\t128\t339\t233\t1\t294\t280\t224\t269\t256\t60\t328\t189\t146\t77\t196\t64\t286\t89\t22\t39\t190\t281\t117\t38\t213\t135\t197\t291\t21\t315\t261\t47\t36\t186\t169\t342\t49\t9\t16\t185\t219\t123\t72\t309\t103\t157\t277\t105\t139\t148\t248\t341\t62\t98\t63\t297\t242\t10\t152\t236\t308\t82\t87\t136\t200\t183\t247\t290\t303\t319\t6\t314\t104\t127\t25\t69\t171\t119\t79\t340\t301\t188\t142\n",
      "circle16\t251\t94\t330\t5\t34\t299\t254\t24\t180\t194\t281\t101\t266\t135\t197\t173\t36\t9\t85\t57\t37\t258\t309\t80\t139\t202\t187\t249\t58\t127\t48\t92\n",
      "circle17\t90\t52\t172\t126\t294\t179\t145\t105\t210\n",
      "circle18\t177\n",
      "circle19\t93\t33\t333\t17\t137\t44\t343\t326\t214\t115\t312\t41\t20\n",
      "circle20\t244\t282\t262\t293\t220\t174\n",
      "circle21\t12\n",
      "circle22\t267\n",
      "circle23\t28\t149\t162\n"
     ]
    }
   ],
   "source": [
    "with open(os.path.join(data_dir, '0.circles'), 'r') as f:\n",
    "    print(\">>> File 0.circles (các nhóm bạn):\")\n",
    "    for line in f.readlines():\n",
    "        print(line.strip())\n"
   ]
  },
  {
   "cell_type": "code",
   "execution_count": 7,
   "id": "2b0c5582",
   "metadata": {
    "execution": {
     "iopub.execute_input": "2025-08-07T04:23:03.957798Z",
     "iopub.status.busy": "2025-08-07T04:23:03.957605Z",
     "iopub.status.idle": "2025-08-07T04:23:03.968996Z",
     "shell.execute_reply": "2025-08-07T04:23:03.968302Z"
    },
    "papermill": {
     "duration": 0.01656,
     "end_time": "2025-08-07T04:23:03.970164",
     "exception": false,
     "start_time": "2025-08-07T04:23:03.953604",
     "status": "completed"
    },
    "tags": []
   },
   "outputs": [
    {
     "name": "stdout",
     "output_type": "stream",
     "text": [
      ">>> File 0.egofeat (đặc trưng của ego):\n",
      "   0    1    2    3    4    5    6    7    8    9    ...  214  215  216  217  \\\n",
      "0    0    0    0    0    0    0    0    0    0    1  ...    0    0    0    0   \n",
      "\n",
      "   218  219  220  221  222  223  \n",
      "0    0    1    0    0    0    0  \n",
      "\n",
      "[1 rows x 224 columns]\n"
     ]
    }
   ],
   "source": [
    "egofeat_file = os.path.join(data_dir, '0.egofeat')\n",
    "egofeat = pd.read_csv(egofeat_file, sep=' ', header=None)\n",
    "print(\">>> File 0.egofeat (đặc trưng của ego):\")\n",
    "print(egofeat)\n"
   ]
  },
  {
   "cell_type": "code",
   "execution_count": 8,
   "id": "1073541f",
   "metadata": {
    "execution": {
     "iopub.execute_input": "2025-08-07T04:23:03.977717Z",
     "iopub.status.busy": "2025-08-07T04:23:03.977534Z",
     "iopub.status.idle": "2025-08-07T04:23:04.312937Z",
     "shell.execute_reply": "2025-08-07T04:23:04.312103Z"
    },
    "papermill": {
     "duration": 0.340527,
     "end_time": "2025-08-07T04:23:04.314120",
     "exception": false,
     "start_time": "2025-08-07T04:23:03.973593",
     "status": "completed"
    },
    "tags": []
   },
   "outputs": [
    {
     "name": "stdout",
     "output_type": "stream",
     "text": [
      "✅ Đã đọc dữ liệu của 10 ego networks.\n"
     ]
    }
   ],
   "source": [
    "import os\n",
    "import pandas as pd\n",
    "\n",
    "# Thay tên thư mục dữ liệu của bạn tại đây (tùy tên bạn tải lên Kaggle)\n",
    "data_dir = '/kaggle/input/facebook-ego-network/facebook'\n",
    "\n",
    "# Bước 1: Lấy danh sách các ego ID (file prefix)\n",
    "ego_ids = sorted(set(f.split('.')[0] for f in os.listdir(data_dir) if f.endswith('.edges')))\n",
    "\n",
    "# Bước 2: Hàm đọc tất cả các file liên quan đến một ego\n",
    "def read_ego_files(ego_id):\n",
    "    files = {}\n",
    "    prefix = os.path.join(data_dir, ego_id)\n",
    "\n",
    "    # Đọc edges\n",
    "    with open(f\"{prefix}.edges\", 'r') as f:\n",
    "        edge_list = [tuple(map(int, line.strip().split())) for line in f]\n",
    "    files['edges'] = edge_list\n",
    "\n",
    "    # Đọc circles (nếu có)\n",
    "    circles_path = f\"{prefix}.circles\"\n",
    "    if os.path.exists(circles_path):\n",
    "        with open(circles_path, 'r') as f:\n",
    "            circles = [line.strip().split() for line in f]\n",
    "        files['circles'] = circles\n",
    "\n",
    "    # Đọc feat\n",
    "    feat_path = f\"{prefix}.feat\"\n",
    "    if os.path.exists(feat_path):\n",
    "        files['feat'] = pd.read_csv(feat_path, sep=' ', header=None)\n",
    "\n",
    "    # Đọc egofeat\n",
    "    egofeat_path = f\"{prefix}.egofeat\"\n",
    "    if os.path.exists(egofeat_path):\n",
    "        files['egofeat'] = pd.read_csv(egofeat_path, sep=' ', header=None)\n",
    "\n",
    "    # Đọc featnames\n",
    "    featnames_path = f\"{prefix}.featnames\"\n",
    "    if os.path.exists(featnames_path):\n",
    "        with open(featnames_path, 'r') as f:\n",
    "            files['featnames'] = [line.strip() for line in f]\n",
    "\n",
    "    return files\n",
    "\n",
    "# Bước 3: Đọc toàn bộ dữ liệu cho tất cả ego và lưu vào dictionary\n",
    "ego_data = {}\n",
    "for ego_id in ego_ids:\n",
    "    ego_data[ego_id] = read_ego_files(ego_id)\n",
    "\n",
    "print(f\"✅ Đã đọc dữ liệu của {len(ego_data)} ego networks.\")\n"
   ]
  },
  {
   "cell_type": "code",
   "execution_count": 9,
   "id": "2308e5df",
   "metadata": {
    "execution": {
     "iopub.execute_input": "2025-08-07T04:23:04.322853Z",
     "iopub.status.busy": "2025-08-07T04:23:04.322285Z",
     "iopub.status.idle": "2025-08-07T04:23:04.333350Z",
     "shell.execute_reply": "2025-08-07T04:23:04.332397Z"
    },
    "papermill": {
     "duration": 0.016465,
     "end_time": "2025-08-07T04:23:04.334481",
     "exception": false,
     "start_time": "2025-08-07T04:23:04.318016",
     "status": "completed"
    },
    "tags": []
   },
   "outputs": [
    {
     "name": "stdout",
     "output_type": "stream",
     "text": [
      "Edges của ego 0:\n",
      "[(236, 186), (122, 285), (24, 346), (271, 304), (176, 9)]\n",
      "\n",
      "Circles:\n",
      "[['circle0', '71', '215', '54', '61', '298', '229', '81', '253', '193', '97', '264', '29', '132', '110', '163', '259', '183', '334', '245', '222'], ['circle1', '173'], ['circle2', '155', '99', '327', '140', '116', '147', '144', '150', '270'], ['circle3', '51', '83', '237'], ['circle4', '125', '344', '295', '257', '55', '122', '223', '59', '268', '280', '84', '156', '258', '236', '250', '239', '69'], ['circle5', '23'], ['circle6', '337', '289', '93', '17', '111', '52', '137', '343', '192', '35', '326', '310', '214', '32', '115', '321', '209', '312', '41', '20'], ['circle7', '225', '46'], ['circle8', '282'], ['circle9', '336', '204', '74', '206', '292', '146', '154', '164', '279', '73'], ['circle10', '42', '14', '216', '2'], ['circle11', '324', '265', '54', '161', '298', '76', '165', '199', '203', '13', '66', '113', '97', '252', '313', '238', '158', '240', '331', '332', '134', '218', '118', '235', '311', '151', '308', '212', '70', '211'], ['circle12', '278'], ['circle13', '138', '131', '68', '143', '86'], ['circle14', '175', '227'], ['circle15', '108', '208', '251', '125', '325', '176', '133', '276', '198', '271', '288', '316', '96', '246', '347', '121', '7', '3', '170', '323', '56', '338', '23', '109', '141', '67', '345', '55', '114', '122', '50', '304', '318', '65', '15', '45', '317', '322', '26', '31', '168', '124', '285', '255', '129', '40', '172', '274', '95', '207', '128', '339', '233', '1', '294', '280', '224', '269', '256', '60', '328', '189', '146', '77', '196', '64', '286', '89', '22', '39', '190', '281', '117', '38', '213', '135', '197', '291', '21', '315', '261', '47', '36', '186', '169', '342', '49', '9', '16', '185', '219', '123', '72', '309', '103', '157', '277', '105', '139', '148', '248', '341', '62', '98', '63', '297', '242', '10', '152', '236', '308', '82', '87', '136', '200', '183', '247', '290', '303', '319', '6', '314', '104', '127', '25', '69', '171', '119', '79', '340', '301', '188', '142'], ['circle16', '251', '94', '330', '5', '34', '299', '254', '24', '180', '194', '281', '101', '266', '135', '197', '173', '36', '9', '85', '57', '37', '258', '309', '80', '139', '202', '187', '249', '58', '127', '48', '92'], ['circle17', '90', '52', '172', '126', '294', '179', '145', '105', '210'], ['circle18', '177'], ['circle19', '93', '33', '333', '17', '137', '44', '343', '326', '214', '115', '312', '41', '20'], ['circle20', '244', '282', '262', '293', '220', '174'], ['circle21', '12'], ['circle22', '267'], ['circle23', '28', '149', '162']]\n",
      "\n",
      "Ego Features:\n",
      "   0    1    2    3    4    5    6    7    8    9    ...  214  215  216  217  \\\n",
      "0    0    0    0    0    0    0    0    0    0    1  ...    0    0    0    0   \n",
      "\n",
      "   218  219  220  221  222  223  \n",
      "0    0    1    0    0    0    0  \n",
      "\n",
      "[1 rows x 224 columns]\n",
      "\n",
      "Bạn bè Features:\n",
      "   0    1    2    3    4    5    6    7    8    9    ...  215  216  217  218  \\\n",
      "0    1    0    0    0    0    0    0    0    0    0  ...    0    0    0    0   \n",
      "1    2    0    0    0    0    0    0    0    0    0  ...    0    0    0    0   \n",
      "2    3    0    0    0    0    0    0    0    1    0  ...    0    0    0    1   \n",
      "3    4    0    0    0    0    0    0    0    0    0  ...    0    0    0    0   \n",
      "4    5    0    0    0    0    0    0    0    0    0  ...    0    0    0    0   \n",
      "\n",
      "   219  220  221  222  223  224  \n",
      "0    0    0    0    0    0    0  \n",
      "1    0    0    0    0    0    0  \n",
      "2    0    0    0    0    0    0  \n",
      "3    0    0    0    0    0    0  \n",
      "4    0    0    0    0    0    0  \n",
      "\n",
      "[5 rows x 225 columns]\n",
      "\n",
      "Tên đặc trưng:\n",
      "['0 birthday;anonymized feature 0', '1 birthday;anonymized feature 1', '2 birthday;anonymized feature 2', '3 birthday;anonymized feature 3', '4 birthday;anonymized feature 4']\n"
     ]
    }
   ],
   "source": [
    "# Ví dụ: xem ego '0'\n",
    "ego_id = '0'\n",
    "\n",
    "print(f\"Edges của ego {ego_id}:\")\n",
    "print(ego_data[ego_id]['edges'][:5])\n",
    "\n",
    "print(\"\\nCircles:\")\n",
    "print(ego_data[ego_id].get('circles', []))\n",
    "\n",
    "print(\"\\nEgo Features:\")\n",
    "print(ego_data[ego_id]['egofeat'].head())\n",
    "\n",
    "print(\"\\nBạn bè Features:\")\n",
    "print(ego_data[ego_id]['feat'].head())\n",
    "\n",
    "print(\"\\nTên đặc trưng:\")\n",
    "print(ego_data[ego_id]['featnames'][:5])\n"
   ]
  },
  {
   "cell_type": "code",
   "execution_count": 10,
   "id": "b7643e7c",
   "metadata": {
    "execution": {
     "iopub.execute_input": "2025-08-07T04:23:04.342284Z",
     "iopub.status.busy": "2025-08-07T04:23:04.342021Z",
     "iopub.status.idle": "2025-08-07T04:23:04.351369Z",
     "shell.execute_reply": "2025-08-07T04:23:04.350689Z"
    },
    "papermill": {
     "duration": 0.014421,
     "end_time": "2025-08-07T04:23:04.352383",
     "exception": false,
     "start_time": "2025-08-07T04:23:04.337962",
     "status": "completed"
    },
    "tags": []
   },
   "outputs": [
    {
     "name": "stdout",
     "output_type": "stream",
     "text": [
      "Đồ thị của ego 0 có 333 đỉnh và 2519 cạnh.\n"
     ]
    }
   ],
   "source": [
    "import networkx as nx\n",
    "\n",
    "ego_id = '0'\n",
    "G = nx.Graph()\n",
    "G.add_edges_from(ego_data[ego_id]['edges'])\n",
    "\n",
    "print(f\"Đồ thị của ego {ego_id} có {G.number_of_nodes()} đỉnh và {G.number_of_edges()} cạnh.\")\n"
   ]
  },
  {
   "cell_type": "code",
   "execution_count": 11,
   "id": "d54035d3",
   "metadata": {
    "execution": {
     "iopub.execute_input": "2025-08-07T04:23:04.360792Z",
     "iopub.status.busy": "2025-08-07T04:23:04.360606Z",
     "iopub.status.idle": "2025-08-07T04:23:04.540352Z",
     "shell.execute_reply": "2025-08-07T04:23:04.539666Z"
    },
    "papermill": {
     "duration": 0.184729,
     "end_time": "2025-08-07T04:23:04.541477",
     "exception": false,
     "start_time": "2025-08-07T04:23:04.356748",
     "status": "completed"
    },
    "tags": []
   },
   "outputs": [
    {
     "name": "stdout",
     "output_type": "stream",
     "text": [
      "[EGO 0] Có 333 đỉnh và 2519 cạnh\n",
      "[EGO 107] Có 1034 đỉnh và 26749 cạnh\n",
      "[EGO 1684] Có 786 đỉnh và 14024 cạnh\n",
      "[EGO 1912] Có 747 đỉnh và 30025 cạnh\n",
      "[EGO 3437] Có 534 đỉnh và 4813 cạnh\n",
      "[EGO 348] Có 224 đỉnh và 3192 cạnh\n",
      "[EGO 3980] Có 52 đỉnh và 146 cạnh\n",
      "[EGO 414] Có 150 đỉnh và 1693 cạnh\n",
      "[EGO 686] Có 168 đỉnh và 1656 cạnh\n",
      "[EGO 698] Có 61 đỉnh và 270 cạnh\n"
     ]
    }
   ],
   "source": [
    "import networkx as nx\n",
    "\n",
    "ego_graphs = {}  # lưu tất cả các đồ thị theo ego_id\n",
    "\n",
    "for ego_id, data in ego_data.items():\n",
    "    G = nx.Graph()\n",
    "    G.add_edges_from(data['edges'])\n",
    "    ego_graphs[ego_id] = G\n",
    "\n",
    "    print(f\"[EGO {ego_id}] Có {G.number_of_nodes()} đỉnh và {G.number_of_edges()} cạnh\")\n"
   ]
  },
  {
   "cell_type": "code",
   "execution_count": 12,
   "id": "ea21e547",
   "metadata": {
    "execution": {
     "iopub.execute_input": "2025-08-07T04:23:04.549970Z",
     "iopub.status.busy": "2025-08-07T04:23:04.549775Z",
     "iopub.status.idle": "2025-08-07T04:23:05.307389Z",
     "shell.execute_reply": "2025-08-07T04:23:05.306642Z"
    },
    "papermill": {
     "duration": 0.763111,
     "end_time": "2025-08-07T04:23:05.308624",
     "exception": false,
     "start_time": "2025-08-07T04:23:04.545513",
     "status": "completed"
    },
    "tags": []
   },
   "outputs": [
    {
     "data": {
      "image/png": "[encoded data removed]",
      "text/plain": [
       "<Figure size 800x600 with 1 Axes>"
      ]
     },
     "metadata": {},
     "output_type": "display_data"
    }
   ],
   "source": [
    "import matplotlib.pyplot as plt\n",
    "\n",
    "# Chọn một ego bất kỳ để vẽ\n",
    "ego_id = '0'\n",
    "G = ego_graphs[ego_id]\n",
    "\n",
    "plt.figure(figsize=(8, 6))\n",
    "nx.draw_spring(G, node_size=50, with_labels=False)\n",
    "plt.title(f\"Đồ thị mạng xã hội của ego {ego_id}\")\n",
    "plt.show()\n"
   ]
  },
  {
   "cell_type": "code",
   "execution_count": 13,
   "id": "a04898c9",
   "metadata": {
    "execution": {
     "iopub.execute_input": "2025-08-07T04:23:05.319018Z",
     "iopub.status.busy": "2025-08-07T04:23:05.318815Z",
     "iopub.status.idle": "2025-08-07T04:23:26.131017Z",
     "shell.execute_reply": "2025-08-07T04:23:26.130102Z"
    },
    "papermill": {
     "duration": 20.819109,
     "end_time": "2025-08-07T04:23:26.132747",
     "exception": false,
     "start_time": "2025-08-07T04:23:05.313638",
     "status": "completed"
    },
    "tags": []
   },
   "outputs": [
    {
     "name": "stdout",
     "output_type": "stream",
     "text": [
      "--- BẮT ĐẦU PHẦN 1: NÂNG CAO DỰ ĐOÁN LIÊN KẾT ---\n",
      "Bắt đầu tải và gộp dữ liệu từ 10 mạng ego...\n",
      "Đã chuẩn bị 168486 mẫu để huấn luyện.\n",
      "\n",
      "Đã phân loại các đặc trưng thành các nhóm: []\n",
      "Đang tính toán các đặc trưng nâng cao...\n",
      "Hoàn thành tính toán đặc trưng nâng cao.\n",
      "\n",
      "--- Kết quả Đánh giá Mô hình Nâng cao ---\n",
      "Độ chính xác (Accuracy): 0.9773\n",
      "\n",
      "Báo cáo Phân loại (Classification Report):\n",
      "              precision    recall  f1-score   support\n",
      "\n",
      "           0       0.98      0.98      0.98     25294\n",
      "           1       0.98      0.98      0.98     25252\n",
      "\n",
      "    accuracy                           0.98     50546\n",
      "   macro avg       0.98      0.98      0.98     50546\n",
      "weighted avg       0.98      0.98      0.98     50546\n",
      "\n"
     ]
    },
    {
     "data": {
      "image/png": "[encoded data removed]",
      "text/plain": [
       "<Figure size 1000x600 with 1 Axes>"
      ]
     },
     "metadata": {},
     "output_type": "display_data"
    },
    {
     "name": "stdout",
     "output_type": "stream",
     "text": [
      "\n",
      "--- BẮT ĐẦU PHẦN 2: PHÁT HIỆN CỘNG ĐỒNG ---\n",
      "Đang chạy thuật toán Louvain để tìm các cộng đồng...\n",
      "Thuật toán đã tìm thấy 38 cộng đồng.\n",
      "Đang đọc dữ liệu các vòng tròn bạn bè (ground truth)...\n",
      "\n",
      "--- Kết quả Đánh giá Phát hiện Cộng đồng ---\n",
      "Chỉ số Normalized Mutual Information (NMI): 0.7473\n",
      "\n",
      "Diễn giải: Chỉ số NMI đo lường sự tương đồng giữa các cộng đồng mà thuật toán tìm thấy và các vòng tròn bạn bè thực tế. Điểm số này cho thấy một sự tương đồng ở mức khá, chứng tỏ cấu trúc mạng lưới phản ánh tốt các nhóm xã hội có thật.\n"
     ]
    }
   ],
   "source": [
    "import pandas as pd\n",
    "import networkx as nx\n",
    "import numpy as np\n",
    "from sklearn.model_selection import train_test_split\n",
    "from sklearn.ensemble import RandomForestClassifier\n",
    "from sklearn.metrics import classification_report, accuracy_score, normalized_mutual_info_score\n",
    "from scipy.spatial.distance import cosine\n",
    "from networkx.algorithms import community\n",
    "import matplotlib.pyplot as plt\n",
    "import seaborn as sns\n",
    "import os\n",
    "import re\n",
    "\n",
    "# --- PHẦN 1: NÂNG CAO MÔ HÌNH DỰ ĐOÁN LIÊN KẾT ---\n",
    "print(\"--- BẮT ĐẦU PHẦN 1: NÂNG CAO DỰ ĐOÁN LIÊN KẾT ---\")\n",
    "\n",
    "# --- Bước 1: Tải và Gộp Toàn bộ Dữ liệu ---\n",
    "ego_ids = ['0', '107', '1684', '1912', '3437', '348', '3980', '414', '686', '698']\n",
    "all_edges = []\n",
    "all_features = {}\n",
    "file_path_prefix = '/kaggle/input/facebook-ego-network/facebook'\n",
    "\n",
    "print(\"Bắt đầu tải và gộp dữ liệu từ 10 mạng ego...\")\n",
    "for ego_id in ego_ids:\n",
    "    edge_file = os.path.join(file_path_prefix, f'{ego_id}.edges')\n",
    "    try:\n",
    "        # SỬA LỖI: Thay thế delim_whitespace=True bằng sep='\\s+'\n",
    "        all_edges.append(pd.read_csv(edge_file, sep=r'\\s+', header=None, names=['node1', 'node2']))\n",
    "    except FileNotFoundError: continue\n",
    "    \n",
    "    feat_file = os.path.join(file_path_prefix, f'{ego_id}.feat')\n",
    "    try:\n",
    "        # SỬA LỖI: Thay thế delim_whitespace=True bằng sep='\\s+'\n",
    "        feat_df = pd.read_csv(feat_file, sep=r'\\s+', header=None)\n",
    "        for _, row in feat_df.iterrows(): all_features[row.iloc[0]] = row.iloc[1:].values\n",
    "    except FileNotFoundError: continue\n",
    "        \n",
    "    egofeat_file = os.path.join(file_path_prefix, f'{ego_id}.egofeat')\n",
    "    try:\n",
    "        # SỬA LỖI: Thay thế delim_whitespace=True bằng sep='\\s+'\n",
    "        all_features[int(ego_id)] = pd.read_csv(egofeat_file, sep=r'\\s+', header=None).iloc[0].values\n",
    "    except FileNotFoundError: continue\n",
    "\n",
    "feature_matrix = pd.DataFrame.from_dict(all_features, orient='index').sort_index()\n",
    "combined_edges_df = pd.concat(all_edges, ignore_index=True)\n",
    "G_combined = nx.from_pandas_edgelist(combined_edges_df, 'node1', 'node2')\n",
    "\n",
    "positive_samples = list(G_combined.edges())\n",
    "all_possible_edges = list(nx.non_edges(G_combined))\n",
    "np.random.seed(42)\n",
    "np.random.shuffle(all_possible_edges)\n",
    "negative_samples = all_possible_edges[:len(positive_samples)]\n",
    "\n",
    "df_pos = pd.DataFrame(positive_samples, columns=['node1', 'node2'])\n",
    "df_pos['label'] = 1\n",
    "df_neg = pd.DataFrame(negative_samples, columns=['node1', 'node2'])\n",
    "df_neg['label'] = 0\n",
    "training_data = pd.concat([df_pos, df_neg], ignore_index=True).sample(frac=1, random_state=42).reset_index(drop=True)\n",
    "print(f\"Đã chuẩn bị {len(training_data)} mẫu để huấn luyện.\")\n",
    "\n",
    "# --- Bước 2: Xây dựng Đặc trưng Nâng cao ---\n",
    "feat_names_file = os.path.join(file_path_prefix, '0.featnames')\n",
    "feat_names_df = pd.read_csv(feat_names_file, sep=r'\\s+', header=None, names=['index', 'name'])\n",
    "feature_categories = {}\n",
    "for index, row in feat_names_df.iterrows():\n",
    "    if isinstance(row['name'], str):\n",
    "        category = row['name'].split(';')[0]\n",
    "        if category in ['birthday', 'gender', 'first_name', 'last_name']:\n",
    "            continue\n",
    "        if category not in feature_categories:\n",
    "            feature_categories[category] = []\n",
    "        feature_categories[category].append(row['index'])\n",
    "\n",
    "print(f\"\\nĐã phân loại các đặc trưng thành các nhóm: {list(feature_categories.keys())}\")\n",
    "\n",
    "def calculate_advanced_features(data, graph, feat_matrix, categories):\n",
    "    jaccard_preds = nx.jaccard_coefficient(graph, data[['node1', 'node2']].values)\n",
    "    pa_preds = nx.preferential_attachment(graph, data[['node1', 'node2']].values)\n",
    "    \n",
    "    jaccard_scores = {(u, v): p for u, v, p in jaccard_preds}\n",
    "    pa_scores = {(u, v): p for u, v, p in pa_preds}\n",
    "    data['jaccard'] = data.apply(lambda r: jaccard_scores.get(tuple(sorted((r['node1'], r['node2']))), 0), axis=1)\n",
    "    data['pref_attachment'] = data.apply(lambda r: pa_scores.get(tuple(sorted((r['node1'], r['node2']))), 0), axis=1)\n",
    "\n",
    "    for category, indices in categories.items():\n",
    "        sim_scores = []\n",
    "        category_feat_matrix = feat_matrix[indices]\n",
    "        for index, row in data.iterrows():\n",
    "            u, v = row['node1'], row['node2']\n",
    "            try:\n",
    "                vec1 = category_feat_matrix.loc[u].values\n",
    "                vec2 = category_feat_matrix.loc[v].values\n",
    "                if vec1.size > 0 and np.any(vec1) and np.any(vec2):\n",
    "                    similarity = 1 - cosine(vec1, vec2)\n",
    "                else:\n",
    "                    similarity = 0\n",
    "                sim_scores.append(similarity)\n",
    "            except KeyError:\n",
    "                sim_scores.append(0)\n",
    "        data[f'sim_{category}'] = sim_scores\n",
    "    return data\n",
    "\n",
    "print(\"Đang tính toán các đặc trưng nâng cao...\")\n",
    "training_data_adv = calculate_advanced_features(training_data, G_combined, feature_matrix, feature_categories)\n",
    "print(\"Hoàn thành tính toán đặc trưng nâng cao.\")\n",
    "\n",
    "# --- Bước 3 & 4: Huấn luyện và Đánh giá Mô hình Nâng cao ---\n",
    "feature_columns = [col for col in training_data_adv.columns if col not in ['node1', 'node2', 'label']]\n",
    "X_adv = training_data_adv[feature_columns]\n",
    "y_adv = training_data_adv['label']\n",
    "\n",
    "X_train_adv, X_test_adv, y_train_adv, y_test_adv = train_test_split(X_adv, y_adv, test_size=0.3, random_state=42)\n",
    "\n",
    "model_adv = RandomForestClassifier(n_estimators=100, random_state=42, n_jobs=-1)\n",
    "model_adv.fit(X_train_adv, y_train_adv)\n",
    "\n",
    "y_pred_adv = model_adv.predict(X_test_adv)\n",
    "\n",
    "print(\"\\n--- Kết quả Đánh giá Mô hình Nâng cao ---\")\n",
    "print(f\"Độ chính xác (Accuracy): {accuracy_score(y_test_adv, y_pred_adv):.4f}\")\n",
    "print(\"\\nBáo cáo Phân loại (Classification Report):\")\n",
    "print(classification_report(y_test_adv, y_pred_adv))\n",
    "\n",
    "feature_importances_adv = pd.DataFrame({'feature': X_adv.columns, 'importance': model_adv.feature_importances_})\n",
    "feature_importances_adv = feature_importances_adv.sort_values('importance', ascending=False)\n",
    "\n",
    "plt.figure(figsize=(10, 6))\n",
    "sns.barplot(x='importance', y='feature', data=feature_importances_adv)\n",
    "plt.title('Mức độ quan trọng của các Đặc trưng (Mô hình Nâng cao)')\n",
    "plt.xlabel('Tầm quan trọng')\n",
    "plt.ylabel('Đặc trưng')\n",
    "plt.tight_layout()\n",
    "plt.show()\n",
    "\n",
    "# --- PHẦN 2: PHÁT HIỆN CỘNG ĐỒNG ---\n",
    "print(\"\\n--- BẮT ĐẦU PHẦN 2: PHÁT HIỆN CỘNG ĐỒNG ---\")\n",
    "\n",
    "print(\"Đang chạy thuật toán Louvain để tìm các cộng đồng...\")\n",
    "communities_found = community.louvain_communities(G_combined, seed=42)\n",
    "print(f\"Thuật toán đã tìm thấy {len(communities_found)} cộng đồng.\")\n",
    "\n",
    "node_to_community_id = {}\n",
    "for i, comm in enumerate(communities_found):\n",
    "    for node in comm:\n",
    "        node_to_community_id[node] = i\n",
    "\n",
    "print(\"Đang đọc dữ liệu các vòng tròn bạn bè (ground truth)...\")\n",
    "true_circles = {}\n",
    "for ego_id in ego_ids:\n",
    "    circle_file = os.path.join(file_path_prefix, f'{ego_id}.circles')\n",
    "    try:\n",
    "        with open(circle_file, 'r') as f:\n",
    "            for line in f:\n",
    "                parts = line.strip().split()\n",
    "                circle_name = parts[0]\n",
    "                members = [int(node) for node in parts[1:]]\n",
    "                for member in members:\n",
    "                    if member not in true_circles:\n",
    "                        true_circles[member] = []\n",
    "                    true_circles[member].append(f\"{ego_id}_{circle_name}\")\n",
    "    except FileNotFoundError:\n",
    "        continue\n",
    "\n",
    "node_to_true_circle_id = {node: circles[0] for node, circles in true_circles.items()}\n",
    "\n",
    "common_nodes = sorted(list(set(node_to_community_id.keys()) & set(node_to_true_circle_id.keys())))\n",
    "pred_labels = [node_to_community_id[node] for node in common_nodes]\n",
    "true_labels = [node_to_true_circle_id[node] for node in common_nodes]\n",
    "\n",
    "nmi_score = normalized_mutual_info_score(true_labels, pred_labels)\n",
    "\n",
    "print(\"\\n--- Kết quả Đánh giá Phát hiện Cộng đồng ---\")\n",
    "print(f\"Chỉ số Normalized Mutual Information (NMI): {nmi_score:.4f}\")\n",
    "print(\"\\nDiễn giải: Chỉ số NMI đo lường sự tương đồng giữa các cộng đồng mà thuật toán tìm thấy và các vòng tròn bạn bè thực tế. \"\n",
    "      \"Điểm số này cho thấy một sự tương đồng ở mức khá, chứng tỏ cấu trúc mạng lưới phản ánh tốt các nhóm xã hội có thật.\")"
   ]
  },
  {
   "cell_type": "code",
   "execution_count": 14,
   "id": "5cd8f7e9",
   "metadata": {
    "execution": {
     "iopub.execute_input": "2025-08-07T04:23:26.149712Z",
     "iopub.status.busy": "2025-08-07T04:23:26.149400Z",
     "iopub.status.idle": "2025-08-07T04:23:26.337678Z",
     "shell.execute_reply": "2025-08-07T04:23:26.336899Z"
    },
    "papermill": {
     "duration": 0.198817,
     "end_time": "2025-08-07T04:23:26.338826",
     "exception": false,
     "start_time": "2025-08-07T04:23:26.140009",
     "status": "completed"
    },
    "tags": []
   },
   "outputs": [
    {
     "name": "stdout",
     "output_type": "stream",
     "text": [
      "\n",
      "--- BẮT ĐẦU PHẦN 3: ĐỀ XUẤT BẠN BÈ ---\n",
      "Đang chuẩn bị đề xuất bạn bè cho Node: 14\n",
      "Node 14 có 3944 ứng viên bạn bè tiềm năng.\n",
      "Đang tính toán đặc trưng cho các cặp ứng viên...\n",
      "Đang dự đoán xác suất kết bạn...\n",
      "\n",
      "--- TOP 10 BẠN BÈ ĐƯỢC ĐỀ XUẤT CHO NODE 14 ---\n",
      " node2  prediction_score\n",
      "    13               1.0\n",
      "     6               1.0\n",
      "    17               1.0\n",
      "   333               1.0\n",
      "     5               1.0\n",
      "     2               1.0\n",
      "   111               1.0\n",
      "   162               1.0\n",
      "     8               1.0\n",
      "    10               1.0\n"
     ]
    }
   ],
   "source": [
    "# --- PHẦN 3: ĐỀ XUẤT BẠN BÈ CHO MỘT NODE CỤ THỂ ---\n",
    "print(\"\\n--- BẮT ĐẦU PHẦN 3: ĐỀ XUẤT BẠN BÈ ---\")\n",
    "\n",
    "target_node = 14\n",
    "print(f\"Đang chuẩn bị đề xuất bạn bè cho Node: {target_node}\")\n",
    "\n",
    "try:\n",
    "    current_friends = set(G_combined.neighbors(target_node))\n",
    "    candidate_nodes = [node for node in G_combined.nodes() if node != target_node and node not in current_friends]\n",
    "\n",
    "    print(f\"Node {target_node} có {len(candidate_nodes)} ứng viên bạn bè tiềm năng.\")\n",
    "\n",
    "    candidate_pairs = pd.DataFrame({'node1': target_node, 'node2': candidate_nodes})\n",
    "\n",
    "    print(\"Đang tính toán đặc trưng cho các cặp ứng viên...\")\n",
    "    candidate_features = calculate_advanced_features(candidate_pairs, G_combined, feature_matrix, feature_categories)\n",
    "\n",
    "    print(\"Đang dự đoán xác suất kết bạn...\")\n",
    "    X_candidates = candidate_features[feature_columns]\n",
    "    \n",
    "    probabilities = model_adv.predict_proba(X_candidates)[:, 1]\n",
    "    candidate_features['prediction_score'] = probabilities\n",
    "\n",
    "    recommendations = candidate_features.sort_values('prediction_score', ascending=False)\n",
    "\n",
    "    print(f\"\\n--- TOP 10 BẠN BÈ ĐƯỢC ĐỀ XUẤT CHO NODE {target_node} ---\")\n",
    "    print(recommendations[['node2', 'prediction_score']].head(10).to_string(index=False))\n",
    "\n",
    "except nx.NetworkXError:\n",
    "    print(f\"Lỗi: Node {target_node} không tồn tại trong đồ thị tổng hợp.\")\n",
    "except Exception as e:\n",
    "    print(f\"Đã xảy ra lỗi: {e}\")"
   ]
  },
  {
   "cell_type": "code",
   "execution_count": 15,
   "id": "465a8ceb",
   "metadata": {
    "execution": {
     "iopub.execute_input": "2025-08-07T04:23:26.350775Z",
     "iopub.status.busy": "2025-08-07T04:23:26.350555Z",
     "iopub.status.idle": "2025-08-07T04:25:10.637048Z",
     "shell.execute_reply": "2025-08-07T04:25:10.636178Z"
    },
    "papermill": {
     "duration": 104.294031,
     "end_time": "2025-08-07T04:25:10.638492",
     "exception": false,
     "start_time": "2025-08-07T04:23:26.344461",
     "status": "completed"
    },
    "tags": []
   },
   "outputs": [
    {
     "name": "stdout",
     "output_type": "stream",
     "text": [
      "--- BẮT ĐẦU PHẦN 1: HUẤN LUYỆN MÔ HÌNH TỐI ƯU ---\n",
      "Bắt đầu tải và gộp dữ liệu...\n",
      "Đã chuẩn bị 168486 mẫu để huấn luyện.\n",
      "\n",
      "Đã phân loại các đặc trưng thành các nhóm: ['education', 'hometown', 'languages', 'locale', 'location', 'work']\n",
      "Đang tính toán bộ đặc trưng đầy đủ...\n",
      "Hoàn thành tính toán đặc trưng.\n",
      "Số lượng giá trị NaN trước khi xử lý: 59730\n",
      "Số lượng giá trị NaN sau khi xử lý: 0\n",
      "\n",
      "--- Kết quả Đánh giá Mô hình Tối ưu ---\n",
      "Độ chính xác (Accuracy): 0.9766\n",
      "Đã lưu mức độ quan trọng của đặc trưng vào tệp 'feature_importances.csv'\n"
     ]
    },
    {
     "data": {
      "image/png": "[encoded data removed]",
      "text/plain": [
       "<Figure size 1000x800 with 1 Axes>"
      ]
     },
     "metadata": {},
     "output_type": "display_data"
    },
    {
     "name": "stdout",
     "output_type": "stream",
     "text": [
      "\n",
      "--- BẮT ĐẦU PHẦN 2: PHÁT HIỆN CỘNG ĐỒNG ---\n",
      "Đang chạy thuật toán Louvain để tìm các cộng đồng...\n",
      "Đã lưu 38 cộng đồng được tìm thấy vào tệp 'predicted_communities.csv'\n"
     ]
    }
   ],
   "source": [
    "import pandas as pd\n",
    "import networkx as nx\n",
    "import numpy as np\n",
    "from sklearn.model_selection import train_test_split\n",
    "from sklearn.ensemble import RandomForestClassifier\n",
    "from sklearn.metrics import classification_report, accuracy_score, normalized_mutual_info_score\n",
    "from scipy.spatial.distance import cosine\n",
    "from networkx.algorithms import community\n",
    "import matplotlib.pyplot as plt\n",
    "import seaborn as sns\n",
    "import os\n",
    "import re\n",
    "\n",
    "# --- PHẦN 1: HUẤN LUYỆN MÔ HÌNH DỰ ĐOÁN LIÊN KẾT TỐI ƯU ---\n",
    "print(\"--- BẮT ĐẦU PHẦN 1: HUẤN LUYỆN MÔ HÌNH TỐI ƯU ---\")\n",
    "\n",
    "# --- Bước 1: Tải và Gộp Toàn bộ Dữ liệu ---\n",
    "ego_ids = ['0', '107', '1684', '1912', '3437', '348', '3980', '414', '686', '698']\n",
    "all_edges = []\n",
    "all_features = {}\n",
    "file_path_prefix = '/kaggle/input/facebook-ego-network/facebook'\n",
    "\n",
    "print(\"Bắt đầu tải và gộp dữ liệu...\")\n",
    "for ego_id in ego_ids:\n",
    "    edge_file = os.path.join(file_path_prefix, f'{ego_id}.edges')\n",
    "    try:\n",
    "        all_edges.append(pd.read_csv(edge_file, sep=r'\\s+', header=None, names=['node1', 'node2']))\n",
    "    except FileNotFoundError: continue\n",
    "    feat_file = os.path.join(file_path_prefix, f'{ego_id}.feat')\n",
    "    try:\n",
    "        feat_df = pd.read_csv(feat_file, sep=r'\\s+', header=None)\n",
    "        for _, row in feat_df.iterrows(): all_features[row.iloc[0]] = row.iloc[1:].values\n",
    "    except FileNotFoundError: continue\n",
    "    egofeat_file = os.path.join(file_path_prefix, f'{ego_id}.egofeat')\n",
    "    try:\n",
    "        all_features[int(ego_id)] = pd.read_csv(egofeat_file, sep=r'\\s+', header=None).iloc[0].values\n",
    "    except FileNotFoundError: continue\n",
    "\n",
    "feature_matrix = pd.DataFrame.from_dict(all_features, orient='index').sort_index()\n",
    "combined_edges_df = pd.concat(all_edges, ignore_index=True)\n",
    "G_combined = nx.from_pandas_edgelist(combined_edges_df, 'node1', 'node2')\n",
    "\n",
    "positive_samples = list(G_combined.edges())\n",
    "all_possible_edges = list(nx.non_edges(G_combined))\n",
    "np.random.seed(42)\n",
    "np.random.shuffle(all_possible_edges)\n",
    "negative_samples = all_possible_edges[:len(positive_samples)]\n",
    "\n",
    "df_pos = pd.DataFrame(positive_samples, columns=['node1', 'node2'])\n",
    "df_pos['label'] = 1\n",
    "df_neg = pd.DataFrame(negative_samples, columns=['node1', 'node2'])\n",
    "df_neg['label'] = 0\n",
    "training_data = pd.concat([df_pos, df_neg], ignore_index=True).sample(frac=1, random_state=42).reset_index(drop=True)\n",
    "print(f\"Đã chuẩn bị {len(training_data)} mẫu để huấn luyện.\")\n",
    "\n",
    "# --- Bước 2: Xây dựng Bộ Đặc trưng Toàn diện ---\n",
    "feat_names_file = os.path.join(file_path_prefix, '0.featnames')\n",
    "temp_df = pd.read_csv(feat_names_file, header=None, names=['full_line'], dtype=str)\n",
    "split_data = temp_df['full_line'].str.split(' ', n=1, expand=True)\n",
    "feat_names_df = pd.DataFrame({'index': pd.to_numeric(split_data[0]), 'name': split_data[1]})\n",
    "feature_categories = {}\n",
    "for index, row in feat_names_df.iterrows():\n",
    "    if isinstance(row['name'], str):\n",
    "        category = row['name'].split(';')[0]\n",
    "        if category in ['birthday', 'gender', 'first_name', 'last_name']:\n",
    "            continue\n",
    "        if category not in feature_categories:\n",
    "            feature_categories[category] = []\n",
    "        feature_categories[category].append(row['index'])\n",
    "\n",
    "print(f\"\\nĐã phân loại các đặc trưng thành các nhóm: {list(feature_categories.keys())}\")\n",
    "\n",
    "def calculate_full_features(data, graph, feat_matrix, categories):\n",
    "    pairs = data[['node1', 'node2']].values\n",
    "    data['jaccard'] = [p for _, _, p in nx.jaccard_coefficient(graph, pairs)]\n",
    "    data['pref_attachment'] = [p for _, _, p in nx.preferential_attachment(graph, pairs)]\n",
    "    data['adamic_adar'] = [p for _, _, p in nx.adamic_adar_index(graph, pairs)]\n",
    "    data['resource_alloc'] = [p for _, _, p in nx.resource_allocation_index(graph, pairs)]\n",
    "    \n",
    "    common_neighbors = [len(list(nx.common_neighbors(graph, u, v))) for u, v in pairs]\n",
    "    data['common_neighbors'] = common_neighbors\n",
    "    \n",
    "    for category, indices in categories.items():\n",
    "        sim_scores = []\n",
    "        category_feat_matrix = feat_matrix[indices]\n",
    "        for u, v in pairs:\n",
    "            try:\n",
    "                vec1, vec2 = category_feat_matrix.loc[u].values, category_feat_matrix.loc[v].values\n",
    "                if vec1.size > 0 and np.any(vec1) and np.any(vec2):\n",
    "                    similarity = 1 - cosine(vec1, vec2)\n",
    "                else: similarity = 0\n",
    "                sim_scores.append(similarity)\n",
    "            except KeyError:\n",
    "                sim_scores.append(0)\n",
    "        data[f'sim_{category}'] = sim_scores\n",
    "    return data\n",
    "\n",
    "print(\"Đang tính toán bộ đặc trưng đầy đủ...\")\n",
    "training_data_full = calculate_full_features(training_data.copy(), G_combined, feature_matrix, feature_categories)\n",
    "print(\"Hoàn thành tính toán đặc trưng.\")\n",
    "\n",
    "# <<< SỬA LỖI: Điền các giá trị NaN bằng 0 >>>\n",
    "print(f\"Số lượng giá trị NaN trước khi xử lý: {training_data_full.isnull().sum().sum()}\")\n",
    "training_data_full.fillna(0, inplace=True)\n",
    "print(f\"Số lượng giá trị NaN sau khi xử lý: {training_data_full.isnull().sum().sum()}\")\n",
    "\n",
    "\n",
    "# --- Bước 3 & 4: Huấn luyện và Đánh giá Mô hình Tối ưu ---\n",
    "feature_columns = [col for col in training_data_full.columns if col not in ['node1', 'node2', 'label']]\n",
    "X_full = training_data_full[feature_columns]\n",
    "y_full = training_data_full['label']\n",
    "\n",
    "X_train, X_test, y_train, y_test = train_test_split(X_full, y_full, test_size=0.3, random_state=42)\n",
    "\n",
    "model_full = RandomForestClassifier(n_estimators=100, random_state=42, n_jobs=-1)\n",
    "model_full.fit(X_train, y_train)\n",
    "\n",
    "y_pred = model_full.predict(X_test)\n",
    "\n",
    "print(\"\\n--- Kết quả Đánh giá Mô hình Tối ưu ---\")\n",
    "print(f\"Độ chính xác (Accuracy): {accuracy_score(y_test, y_pred):.4f}\")\n",
    "\n",
    "feature_importances = pd.DataFrame({'feature': X_full.columns, 'importance': model_full.feature_importances_})\n",
    "feature_importances = feature_importances.sort_values('importance', ascending=False)\n",
    "feature_importances.to_csv('feature_importances.csv', index=False)\n",
    "print(\"Đã lưu mức độ quan trọng của đặc trưng vào tệp 'feature_importances.csv'\")\n",
    "\n",
    "plt.figure(figsize=(10, 8))\n",
    "sns.barplot(x='importance', y='feature', data=feature_importances)\n",
    "plt.title('Mức độ quan trọng của các Đặc trưng (Mô hình Tối ưu)')\n",
    "plt.xlabel('Tầm quan trọng'); plt.ylabel('Đặc trưng'); plt.tight_layout(); plt.show()\n",
    "\n",
    "# --- PHẦN 2: PHÁT HIỆN CỘNG ĐỒNG ---\n",
    "print(\"\\n--- BẮT ĐẦU PHẦN 2: PHÁT HIỆN CỘNG ĐỒNG ---\")\n",
    "\n",
    "print(\"Đang chạy thuật toán Louvain để tìm các cộng đồng...\")\n",
    "communities_found = community.louvain_communities(G_combined, seed=42)\n",
    "node_to_community_id = {node: i for i, comm in enumerate(communities_found) for node in comm}\n",
    "\n",
    "communities_df = pd.DataFrame(list(node_to_community_id.items()), columns=['node', 'predicted_community'])\n",
    "communities_df.to_csv('predicted_communities.csv', index=False)\n",
    "print(f\"Đã lưu {len(communities_found)} cộng đồng được tìm thấy vào tệp 'predicted_communities.csv'\")\n"
   ]
  },
  {
   "cell_type": "code",
   "execution_count": 16,
   "id": "d625cf68",
   "metadata": {
    "execution": {
     "iopub.execute_input": "2025-08-07T04:25:10.653244Z",
     "iopub.status.busy": "2025-08-07T04:25:10.652983Z",
     "iopub.status.idle": "2025-08-07T04:25:16.606447Z",
     "shell.execute_reply": "2025-08-07T04:25:16.605680Z"
    },
    "papermill": {
     "duration": 5.962147,
     "end_time": "2025-08-07T04:25:16.607784",
     "exception": false,
     "start_time": "2025-08-07T04:25:10.645637",
     "status": "completed"
    },
    "tags": []
   },
   "outputs": [
    {
     "name": "stdout",
     "output_type": "stream",
     "text": [
      "\n",
      "Đang chuẩn bị đề xuất bạn bè cho Node: [0, 107, 348]\n",
      "Đang tính đặc trưng cho 3956 ứng viên...\n",
      "Đã tìm thấy 24 vòng tròn bạn bè. Sẽ tiến hành phân loại.\n",
      "\n",
      "--- TOP 10 ĐỀ XUẤT CHO NODE 0 ---\n",
      " node2  prediction_score predicted_circle\n",
      "   269              0.98          circle0\n",
      "  3173              0.98         circle16\n",
      "  2885              0.97         circle15\n",
      "  2838              0.97         circle15\n",
      "  3003              0.97         circle15\n",
      "  3290              0.96         circle15\n",
      "   107              0.95         circle15\n",
      "  1684              0.89         circle15\n",
      "  1297              0.87         circle15\n",
      "  2814              0.86         circle16\n",
      "\n",
      "Đang chuẩn bị đề xuất bạn bè cho Node: [0, 107, 348]\n",
      "Đang tính đặc trưng cho 3933 ứng viên...\n",
      "Đã tìm thấy 9 vòng tròn bạn bè. Sẽ tiến hành phân loại.\n",
      "\n",
      "--- TOP 10 ĐỀ XUẤT CHO NODE 107 ---\n",
      " node2  prediction_score predicted_circle\n",
      "  3164              1.00          circle6\n",
      "   414              1.00          circle3\n",
      "  1883              0.99          circle6\n",
      "  1666              0.99          circle6\n",
      "   973              0.99          circle6\n",
      "  3245              0.99          circle6\n",
      "  1684              0.98          circle6\n",
      "  1369              0.98          circle6\n",
      "  1561              0.98          circle6\n",
      "  2764              0.98          circle6\n",
      "\n",
      "Đang chuẩn bị đề xuất bạn bè cho Node: [0, 107, 348]\n",
      "Đang tính đặc trưng cho 3903 ứng viên...\n",
      "Đã tìm thấy 14 vòng tròn bạn bè. Sẽ tiến hành phân loại.\n",
      "\n",
      "--- TOP 10 ĐỀ XUẤT CHO NODE 348 ---\n",
      " node2  prediction_score predicted_circle\n",
      "   488               1.0          circle1\n",
      "   523               1.0          circle1\n",
      "   444               1.0          circle1\n",
      "   417               1.0          circle1\n",
      "   388               1.0          circle1\n",
      "   392               1.0          circle1\n",
      "   402               1.0          circle1\n",
      "   451               1.0          circle1\n",
      "   511               1.0          circle1\n",
      "   520               1.0          circle1\n",
      "\n",
      "Đã lưu toàn bộ đề xuất vào tệp 'friend_recommendations.csv'\n"
     ]
    }
   ],
   "source": [
    "def recommend_and_classify(target_node, graph, model, feat_matrix, categories, feature_cols):\n",
    "    print(f\"\\nĐang chuẩn bị đề xuất bạn bè cho Node: {nodes_to_recommend}\")\n",
    "    \n",
    "    # Bước 1: Tìm ứng viên bạn bè (luôn thực hiện)\n",
    "    try:\n",
    "        current_friends = set(graph.neighbors(target_node))\n",
    "    except nx.NetworkXError:\n",
    "        print(f\"Lỗi: Node {target_node} không tồn tại trong đồ thị.\")\n",
    "        return None\n",
    "        \n",
    "    candidate_nodes = [node for node in graph.nodes() if node != target_node and node not in current_friends]\n",
    "    if not candidate_nodes:\n",
    "        print(f\"Node {target_node} đã kết bạn với tất cả mọi người có thể.\"); return None\n",
    "\n",
    "    candidate_pairs = pd.DataFrame({'node1': target_node, 'node2': candidate_nodes})\n",
    "\n",
    "    # Bước 2: Tính đặc trưng và dự đoán (luôn thực hiện)\n",
    "    print(f\"Đang tính đặc trưng cho {len(candidate_nodes)} ứng viên...\")\n",
    "    candidate_features = calculate_full_features(candidate_pairs.copy(), graph, feat_matrix, categories)\n",
    "    candidate_features.fillna(0, inplace=True)\n",
    "    \n",
    "    X_candidates = candidate_features[feature_cols]\n",
    "    probabilities = model.predict_proba(X_candidates)[:, 1]\n",
    "    candidate_features['prediction_score'] = probabilities\n",
    "    \n",
    "    recommendations = candidate_features.sort_values('prediction_score', ascending=False).head(10)\n",
    "\n",
    "    # Bước 3: Cố gắng phân loại vào vòng tròn (chỉ thực hiện nếu có tệp .circles)\n",
    "    can_classify = False\n",
    "    target_circles = {}\n",
    "    circle_file = os.path.join(file_path_prefix, f'{target_node}.circles')\n",
    "    try:\n",
    "        with open(circle_file, 'r') as f:\n",
    "            can_classify = True\n",
    "            for line in f:\n",
    "                parts = line.strip().split()\n",
    "                target_circles[parts[0]] = {int(node) for node in parts[1:]}\n",
    "        print(f\"Đã tìm thấy {len(target_circles)} vòng tròn bạn bè. Sẽ tiến hành phân loại.\")\n",
    "    except FileNotFoundError:\n",
    "        print(f\"Không tìm thấy tệp .circles cho Node {target_node}. Sẽ chỉ đề xuất.\")\n",
    "\n",
    "    # Gán vòng tròn dự đoán\n",
    "    if can_classify:\n",
    "        predicted_circles = []\n",
    "        for _, row in recommendations.iterrows():\n",
    "            rec_node_friends = set(graph.neighbors(row['node2']))\n",
    "            best_circle, max_overlap = 'Unknown', 0\n",
    "            for circle_name, members in target_circles.items():\n",
    "                overlap = len(rec_node_friends.intersection(members))\n",
    "                if overlap > max_overlap:\n",
    "                    max_overlap, best_circle = overlap, circle_name\n",
    "            predicted_circles.append(best_circle)\n",
    "        recommendations['predicted_circle'] = predicted_circles\n",
    "    else:\n",
    "        recommendations['predicted_circle'] = 'Không có dữ liệu'\n",
    "        \n",
    "    recommendations['target_node'] = target_node\n",
    "    return recommendations\n",
    "\n",
    "# --- Chạy chức năng đề xuất ---\n",
    "all_recommendations = []\n",
    "nodes_to_recommend = [0, 107, 348] # Thay 348 bằng 2 để kiểm tra trường hợp không có file\n",
    "\n",
    "for node_id in nodes_to_recommend:\n",
    "    recs = recommend_and_classify(node_id, G_combined, model_full, feature_matrix, feature_categories, feature_columns)\n",
    "    if recs is not None:\n",
    "        all_recommendations.append(recs)\n",
    "        print(f\"\\n--- TOP 10 ĐỀ XUẤT CHO NODE {node_id} ---\")\n",
    "        print(recs[['node2', 'prediction_score', 'predicted_circle']].to_string(index=False))\n",
    "\n",
    "# --- Lưu kết quả cuối cùng ra CSV ---\n",
    "if all_recommendations:\n",
    "    full_recommendations_df = pd.concat(all_recommendations, ignore_index=True)\n",
    "    full_recommendations_df.to_csv('friend_recommendations.csv', index=False)\n",
    "    print(\"\\nĐã lưu toàn bộ đề xuất vào tệp 'friend_recommendations.csv'\")"
   ]
  }
 ],
 "metadata": {
  "kaggle": {
   "accelerator": "nvidiaTeslaT4",
   "dataSources": [
    {
     "datasetId": 8018257,
     "sourceId": 12695717,
     "sourceType": "datasetVersion"
    }
   ],
   "dockerImageVersionId": 31089,
   "isGpuEnabled": true,
   "isInternetEnabled": true,
   "language": "python",
   "sourceType": "notebook"
  },
  "kernelspec": {
   "display_name": "Python 3",
   "language": "python",
   "name": "python3"
  },
  "language_info": {
   "codemirror_mode": {
    "name": "ipython",
    "version": 3
   },
   "file_extension": ".py",
   "mimetype": "text/x-python",
   "name": "python",
   "nbconvert_exporter": "python",
   "pygments_lexer": "ipython3",
   "version": "3.11.13"
  },
  "papermill": {
   "default_parameters": {},
   "duration": 144.989681,
   "end_time": "2025-08-07T04:25:19.231900",
   "environment_variables": {},
   "exception": null,
   "input_path": "__notebook__.ipynb",
   "output_path": "__notebook__.ipynb",
   "parameters": {},
   "start_time": "2025-08-07T04:22:54.242219",
   "version": "2.6.0"
  }
 },
 "nbformat": 4,
 "nbformat_minor": 5
}
